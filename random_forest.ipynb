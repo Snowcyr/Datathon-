{
 "cells": [
  {
   "cell_type": "code",
   "execution_count": 1,
   "metadata": {},
   "outputs": [
    {
     "name": "stdout",
     "output_type": "stream",
     "text": [
      "Accuracy: 0.969208211143695\n"
     ]
    }
   ],
   "source": [
    "import pandas as pd\n",
    "from sklearn.feature_selection import RFE\n",
    "from sklearn.model_selection import train_test_split\n",
    "from sklearn.ensemble import RandomForestClassifier\n",
    "from sklearn.metrics import accuracy_score\n",
    "from sklearn.model_selection import GridSearchCV\n",
    "\n",
    "# Load your data\n",
    "df = pd.read_csv('newdata.csv')\n",
    "\n",
    "# Define your feature set and target variable\n",
    "X = df.drop('Bankrupt?', axis=1)\n",
    "y = df['Bankrupt?']\n",
    "\n",
    "# Split your data into training and testing sets\n",
    "X_train, X_test, y_train, y_test = train_test_split(X, y, test_size=0.2, random_state=42)\n",
    "\n",
    "# Define your Random Forest classifier\n",
    "model = RandomForestClassifier()\n",
    "\n",
    "\n",
    "selector = RFE(estimator=model, n_features_to_select=None)\n",
    "selector = selector.fit(X_train, y_train)\n",
    "\n",
    "\n",
    "selected_features = selector.support_\n",
    "\n",
    "\n",
    "feature_ranking = selector.ranking_\n",
    "\n",
    " \n",
    "selected_features_indices = feature_ranking <= 85\n",
    "X_train_selected = X_train.loc[:, selected_features_indices]\n",
    "X_test_selected = X_test.loc[:, selected_features_indices]\n",
    "\n",
    "# Train the model on the selected features\n",
    "model.fit(X_train_selected, y_train)\n",
    "\n",
    "# Use the model to make predictions on the test data\n",
    "predictions = model.predict(X_test_selected)\n",
    "\n",
    "# Calculate accuracy\n",
    "accuracy = accuracy_score(y_test, predictions)\n",
    "print(\"Accuracy:\", accuracy)\n",
    "\n"
   ]
  }
 ],
 "metadata": {
  "kernelspec": {
   "display_name": "Python 3",
   "language": "python",
   "name": "python3"
  },
  "language_info": {
   "codemirror_mode": {
    "name": "ipython",
    "version": 3
   },
   "file_extension": ".py",
   "mimetype": "text/x-python",
   "name": "python",
   "nbconvert_exporter": "python",
   "pygments_lexer": "ipython3",
   "version": "3.11.2"
  }
 },
 "nbformat": 4,
 "nbformat_minor": 2
}
